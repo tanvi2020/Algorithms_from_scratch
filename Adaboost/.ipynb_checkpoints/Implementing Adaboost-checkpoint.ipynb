{
 "cells": [
  {
   "cell_type": "markdown",
   "id": "65d4e239",
   "metadata": {},
   "source": [
    "# What is Boosting? How is it Different from Bagging?\n",
    "Boosting is an ensemble learning method that combines many weak learners into one strong learner. An Adaboost trains the models sequentially and focuses on misclassified samples while Bagging trains each model independently and averages their predictions. \n"
   ]
  },
  {
   "cell_type": "markdown",
   "id": "1f8a2bd4",
   "metadata": {},
   "source": [
    "# How Boosting Works \n",
    "\t1. Start with equal weights for all data points.\n",
    "    \n",
    "\t2. Train the first weak model (usually a decision stump—a tree with 1 split).\n",
    "    \n",
    "\t3. Measure errors on training data. Calculate alpha is which is the performace weight of a decision stump. If the error is high then alpha will be low and if error is low then alpha will be high\n",
    "    \n",
    "\t4. Increase weights for misclassified samples (so the next model focuses more on them) (UpSampling)\n",
    "    \n",
    "\t5. Train the next model using the updated weights.\n",
    "    \n",
    "\t6. Repeat the process for T iterations.\n",
    "    \n",
    "\t7. Final prediction = weighted sum or vote of all weak models.\n"
   ]
  },
  {
   "cell_type": "code",
   "execution_count": 31,
   "id": "f0fe76e4",
   "metadata": {},
   "outputs": [],
   "source": [
    "import numpy as np\n",
    "import pandas as pd\n",
    "import matplotlib.pyplot as plt\n",
    "from sklearn.tree import DecisionTreeClassifier\n",
    "from sklearn.metrics import accuracy_score"
   ]
  },
  {
   "cell_type": "markdown",
   "id": "55675a7f",
   "metadata": {},
   "source": [
    "## Creating a Toy dataset "
   ]
  },
  {
   "cell_type": "code",
   "execution_count": 23,
   "id": "7d466b88",
   "metadata": {
    "scrolled": true
   },
   "outputs": [],
   "source": [
    "# I will be creating a toy dataset with 10 points and 2 features \n",
    "X= np.array([[1, 2],[2, 3],[4, 1], [5, 3],[5, 1],[6, 4],[7, 2],[8, 3], [9, 1],[10, 2]]) \n",
    "y= np.array([-1, -1, -1, -1, -1, 1, 1, 1, 1, 1])  # 5 positive labels and 5 negative labels"
   ]
  },
  {
   "cell_type": "markdown",
   "id": "d6d073b7",
   "metadata": {},
   "source": [
    "## Visualizing the Toy Dataset"
   ]
  },
  {
   "cell_type": "code",
   "execution_count": 24,
   "id": "65260951",
   "metadata": {},
   "outputs": [
    {
     "data": {
      "image/png": "[encoded data removed]",
      "text/plain": [
       "<Figure size 640x480 with 1 Axes>"
      ]
     },
     "metadata": {},
     "output_type": "display_data"
    }
   ],
   "source": [
    "plt.scatter(X[5:],X[5:],color='blue',label='Class +1') # Column 1 and column 2 +ve points as blue\n",
    "plt.scatter(X[:5],X[:5],color='red',label='Class -1')\n",
    "plt.xlabel('X1')\n",
    "plt.ylabel('X2')\n",
    "plt.title(\"Toy Dataset\")\n",
    "plt.legend()\n",
    "plt.grid(True)\n",
    "plt.show()"
   ]
  },
  {
   "cell_type": "markdown",
   "id": "a8a02e50",
   "metadata": {},
   "source": [
    "## Implementing AdaBoost"
   ]
  },
  {
   "cell_type": "code",
   "execution_count": 32,
   "id": "bf7aaa52",
   "metadata": {},
   "outputs": [],
   "source": [
    "def creating_AdaBoost(X,y,T): # Where X are the 2 features , y are labels and T are number of Decision Stumps\n",
    "    n_samples=X.shape[0]\n",
    "    sample_weights=np.ones(n_samples)/n_samples  # Each sample is given 1/10 weight initially\n",
    "    models=[]\n",
    "    alphas=[]  # The performance weight of a decision stump\n",
    "    for t in range(T):\n",
    "        # Training the Decision Tree stump\n",
    "        stump=DecisionTreeClassifier(max_depth=1) # A stump is a decision tree with max depth 1 \n",
    "        stump.fit(X,y,sample_weight=sample_weights) # sample_weight tells the tree which parameter is important. \n",
    "        # The tree uses sample weights to calculate the gini entropies\n",
    "        \n",
    "        # Predicting the data\n",
    "        stump_prediction=stump.predict(X)\n",
    "        \n",
    "        # Calculate the Error.\n",
    "        #Error = Sum of weights of the points which were misclassified by the Stump\n",
    "        # error = sum(Wi * 1(y_pred != y)) where wi is weight of ith sample, y is actual value and y_pred is predcited value\n",
    "        # 1 is the indicator function. It will help us count only the misclassified points. 1 if prediction is wrong 0 if right.\n",
    "        error=np.sum(sample_weights * 1*(stump_prediction != y))\n",
    "        error=max(error,0.00000001) #  Avoid division by zero\n",
    "        \n",
    "        \n",
    "        # Compute the Alpha \n",
    "        # alpha = 1/2 log(1-error / error)\n",
    "        alpha=0.5 * np.log((1-error)/error)\n",
    "        \n",
    "        # Update the Sample Weights\n",
    "        # For correctly classified weights, new weight = current_weight * e ^ (-alpha) \n",
    "        # For misclassified weights , new weight = current_weight * e ^ (+ alpha)\n",
    "        # This formula will give more weight to the misclassifed points so that they get correctly classified in next stump.\n",
    "        # Also , the sum of the updated weights must add up to 1 . To ensure this we normalize them by diving each weight \n",
    "        # by the total sum and then summing them up again which gives us 1.\n",
    "        sample_weights *= np.exp(-alpha * y * stump_prediction)\n",
    "        # if y* y_pred = 1 correct prediction. -alpha * 1 weight decreases\n",
    "        # if y*y_pred = -1 incorrect prediction.  -alpha * -1 , weight increases \n",
    "        \n",
    "        sample_weights /= np.sum(sample_weights) # Normalize\n",
    "        \n",
    "        # save the Model and Alpha\n",
    "        models.append(stump)\n",
    "        alphas.append(alpha)\n",
    "        \n",
    "        print(f\"Iteration : {t}\")\n",
    "        print(f\"error : {error}\")\n",
    "        print(f\"alpha : {alpha}\")\n",
    "        print(f\"sample weights : {sample_weights}\")\n",
    "        \n",
    "        \n",
    "    return models,alphas\n",
    "    \n",
    "    "
   ]
  },
  {
   "cell_type": "markdown",
   "id": "20011e1a",
   "metadata": {},
   "source": [
    "## Training the AdaBoost on the data I prepared"
   ]
  },
  {
   "cell_type": "code",
   "execution_count": 33,
   "id": "68c28b62",
   "metadata": {},
   "outputs": [
    {
     "name": "stdout",
     "output_type": "stream",
     "text": [
      "Iteration : 0\n",
      "error : 1e-08\n",
      "alpha : 9.210340366976183\n",
      "sample weights : [0.1 0.1 0.1 0.1 0.1 0.1 0.1 0.1 0.1 0.1]\n",
      "Iteration : 1\n",
      "error : 1e-08\n",
      "alpha : 9.210340366976183\n",
      "sample weights : [0.1 0.1 0.1 0.1 0.1 0.1 0.1 0.1 0.1 0.1]\n",
      "Iteration : 2\n",
      "error : 1e-08\n",
      "alpha : 9.210340366976183\n",
      "sample weights : [0.1 0.1 0.1 0.1 0.1 0.1 0.1 0.1 0.1 0.1]\n",
      "Iteration : 3\n",
      "error : 1e-08\n",
      "alpha : 9.210340366976183\n",
      "sample weights : [0.1 0.1 0.1 0.1 0.1 0.1 0.1 0.1 0.1 0.1]\n",
      "Iteration : 4\n",
      "error : 1e-08\n",
      "alpha : 9.210340366976183\n",
      "sample weights : [0.1 0.1 0.1 0.1 0.1 0.1 0.1 0.1 0.1 0.1]\n"
     ]
    }
   ],
   "source": [
    "models,alphas=creating_AdaBoost(X,y,T=5)"
   ]
  },
  {
   "cell_type": "markdown",
   "id": "b7600f10",
   "metadata": {},
   "source": [
    "# Now the Final Step is  make Predictions from all the Stumps , then muliply it by their Alpha, Add them all together and take the sign of the result as the final class\n",
    "\n",
    "Formula :\n",
    "\n",
    "h(x) = sign(alpha1*h1(x) + alpha2*h2(x) + alpha3*h3(x) + .... alpha_n *hn(x))"
   ]
  },
  {
   "cell_type": "code",
   "execution_count": 34,
   "id": "44db5b52",
   "metadata": {},
   "outputs": [],
   "source": [
    "def final_prediction(X,models,alphas): # X,stumps and alphas\n",
    "    final_pred=np.zeros(X.shape[0]) # an array of all zeros and size 10 \n",
    "    for stump,alpha in zip(models,alphas):\n",
    "        prediction=stump.predict(X)\n",
    "        final_pred+=prediction*alpha\n",
    "    return np.sign(final_pred) # will return +1 or -1 as the final prediction  "
   ]
  },
  {
   "cell_type": "markdown",
   "id": "5e90d2b6",
   "metadata": {},
   "source": [
    "## Testing the prediction"
   ]
  },
  {
   "cell_type": "code",
   "execution_count": 35,
   "id": "3f42f266",
   "metadata": {},
   "outputs": [],
   "source": [
    "y_pred=final_prediction(X,models,alphas)"
   ]
  },
  {
   "cell_type": "code",
   "execution_count": 36,
   "id": "e7ee10eb",
   "metadata": {},
   "outputs": [
    {
     "data": {
      "text/plain": [
       "array([-1., -1., -1., -1., -1.,  1.,  1.,  1.,  1.,  1.])"
      ]
     },
     "execution_count": 36,
     "metadata": {},
     "output_type": "execute_result"
    }
   ],
   "source": [
    "y_pred"
   ]
  },
  {
   "cell_type": "markdown",
   "id": "c6907f75",
   "metadata": {},
   "source": [
    "# Checking the Accuracy "
   ]
  },
  {
   "cell_type": "code",
   "execution_count": 38,
   "id": "748f26e0",
   "metadata": {},
   "outputs": [
    {
     "name": "stdout",
     "output_type": "stream",
     "text": [
      "Accuracy :  1.0\n"
     ]
    }
   ],
   "source": [
    "accuracy=accuracy_score(y,y_pred)\n",
    "print('Accuracy : ',accuracy)"
   ]
  }
 ],
 "metadata": {
  "kernelspec": {
   "display_name": "Python 3 (ipykernel)",
   "language": "python",
   "name": "python3"
  },
  "language_info": {
   "codemirror_mode": {
    "name": "ipython",
    "version": 3
   },
   "file_extension": ".py",
   "mimetype": "text/x-python",
   "name": "python",
   "nbconvert_exporter": "python",
   "pygments_lexer": "ipython3",
   "version": "3.9.13"
  }
 },
 "nbformat": 4,
 "nbformat_minor": 5
}
