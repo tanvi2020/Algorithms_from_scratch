{
 "cells": [
  {
   "cell_type": "markdown",
   "id": "c01cc11b",
   "metadata": {},
   "source": [
    "# When to use Regression Trees ?\n",
    "When Predictions are continuous values instead of discrete classes."
   ]
  },
  {
   "cell_type": "markdown",
   "id": "b937fe94",
   "metadata": {},
   "source": [
    "#  Steps to Implement Regression Trees from Scratch\n",
    "- Generate Data - Create a synthetic dataset for training.\n",
    "- Implement Splitting Criteria - Use Mean Squared Error (MSE) instead of entropy/Gini.\n",
    "- Build the Tree\n",
    "--   \t Define stopping conditions (max depth, min samples per split).\n",
    "--   \t Find best feature & threshold to split.\n",
    "--   \t Recursively build left & right nodes.\n",
    "- Make Predictions - Traverse the tree for new data points.\n",
    "- Evaluate Performance - Use MSE or R2 score to check accuracy.\n",
    "- Visualize the Decision Boundary\n"
   ]
  },
  {
   "cell_type": "markdown",
   "id": "f008ac07",
   "metadata": {},
   "source": [
    "# Generating a Sythetic dataset for training"
   ]
  },
  {
   "cell_type": "markdown",
   "id": "a97ad364",
   "metadata": {},
   "source": [
    "## Think of it like:\n",
    "- We measure kids heights and try to predict their weight using height^2,but there is some random variation\n",
    "(some kids are heavier or lighter than expected)."
   ]
  },
  {
   "cell_type": "markdown",
   "id": "e047ac20",
   "metadata": {},
   "source": [
    "## Final Output?\n",
    "- X is a sorted list of numbers (0 to 10).\n",
    "- y follows a parabolic shape (X²) but has random ups and downs to make it more real."
   ]
  },
  {
   "cell_type": "code",
   "execution_count": 7,
   "id": "e72071cd",
   "metadata": {},
   "outputs": [],
   "source": [
    "import numpy as np\n",
    "\n",
    "np.random.seed(22)\n",
    "X=np.sort(10*np.random.rand(100,1),axis=0) \n",
    "# np.random.rand(100,1) will create 100 random values between 0 to 1.Multiplying it by 10 \n",
    "# will create values between 0 to 10. Sort(axis=0) will sort the values in ascending order \n",
    "\n",
    "y=X.flatten()**2+np.random.rand(100)*5\n",
    "# X.flatten()**2 will square each number in X so that the bigger values grow even bigger and np.random.rand(100)*5 will add\n",
    "# noise to the values between 0 to 5"
   ]
  },
  {
   "cell_type": "code",
   "execution_count": 38,
   "id": "18da48dd",
   "metadata": {},
   "outputs": [
    {
     "data": {
      "image/png": "[encoded data removed]",
      "text/plain": [
       "<Figure size 640x480 with 1 Axes>"
      ]
     },
     "metadata": {},
     "output_type": "display_data"
    }
   ],
   "source": [
    "# Plot the data \n",
    "import matplotlib.pyplot as plt\n",
    "\n",
    "plt.scatter(X,y,color='blue',label='Data Points')\n",
    "plt.xlabel('Feature/Input X')\n",
    "plt.ylabel('Target/Output y')\n",
    "plt.title('Regression Tree Data points')\n",
    "plt.legend()\n",
    "plt.show()"
   ]
  },
  {
   "cell_type": "markdown",
   "id": "5daaf15a",
   "metadata": {},
   "source": [
    "# Implementing the Splitting Criteria"
   ]
  },
  {
   "cell_type": "markdown",
   "id": "d0de1e28",
   "metadata": {},
   "source": [
    "Now this time instead of using Gini or Entropy , we will be using the MSE(Mean Squared Error) in case of Regression Tree"
   ]
  },
  {
   "cell_type": "markdown",
   "id": "b410528f",
   "metadata": {},
   "source": [
    "## Steps for Splitting Criteria:\n",
    "-  Calculate MSE of the entire dataset (before the split) To understand how much error we currently have\n",
    "-  Try different split points (loop through all possible feature values).\n",
    "-  Split the data into left and right nodes.\n",
    "-  Calculate MSE for left and right nodes.\n",
    "-  Compute the weighted average of both MSEs.\n",
    "-  Find the split point that minimizes the overall MSE."
   ]
  },
  {
   "cell_type": "markdown",
   "id": "cd5e9b0e",
   "metadata": {},
   "source": [
    "### Step 1 . Calculate MSE for entire dataset\n",
    "- Find the mean of all y values \n",
    "- Subtract this mean from each y value\n",
    "- Square the errors and take average "
   ]
  },
  {
   "cell_type": "code",
   "execution_count": 9,
   "id": "3a10d703",
   "metadata": {},
   "outputs": [],
   "source": [
    "def MSE(y):\n",
    "    # Calculating the mean of all y values \n",
    "    y_mean=np.mean(y)\n",
    "    # Subtracting mean from each y value , square the errors and take average\n",
    "    return np.mean((y - y_mean)**2)   "
   ]
  },
  {
   "cell_type": "code",
   "execution_count": 10,
   "id": "043d9f2f",
   "metadata": {},
   "outputs": [
    {
     "name": "stdout",
     "output_type": "stream",
     "text": [
      "892.4376641494458\n"
     ]
    }
   ],
   "source": [
    "# Testing the MSE\n",
    "print(MSE(y))"
   ]
  },
  {
   "cell_type": "markdown",
   "id": "573ba17d",
   "metadata": {},
   "source": [
    "### Step 2 : Try different split points (loop through all possible feature values)"
   ]
  },
  {
   "cell_type": "markdown",
   "id": "52c9373c",
   "metadata": {},
   "source": [
    "We need to divide our data into two parts(left and right) at a certain point(threshold).\n",
    "The goal is to find the best split that gives us the lowest MSE ."
   ]
  },
  {
   "cell_type": "markdown",
   "id": "3484e680",
   "metadata": {},
   "source": [
    "### But how do we find the best split?\n",
    "For each possible split point or threshold we divide the data into Left and Right. Left values <= threshold while Right values>Threshold\n"
   ]
  },
  {
   "cell_type": "markdown",
   "id": "5f063499",
   "metadata": {},
   "source": [
    "- So we need to calculate the MSE for Left and Right parts\n",
    "- Then Calculate Total Weghted MSE of the whole split\n",
    "- Choose the split that gives the lowest MSE"
   ]
  },
  {
   "cell_type": "code",
   "execution_count": 11,
   "id": "de2557d0",
   "metadata": {},
   "outputs": [],
   "source": [
    "def Best_Split(X,y):\n",
    "    best_MSE=float('inf') # Starting with a very high MSE\n",
    "    best_split=None\n",
    "    \n",
    "    # For each possible split point in X \n",
    "    for i in range(1,len(X)):\n",
    "        # dividing the data into Left and Right\n",
    "        y_left=y[:i]\n",
    "        y_right=y[i:]\n",
    "        \n",
    "        # Calculating the MSE for left and right parts\n",
    "        mse_left=MSE(y_left)\n",
    "        mse_right=MSE(y_right)\n",
    "        \n",
    "        # Calculate the Weighted MSE\n",
    "        weighted_MSE=(mse_left*len(y_left)+mse_right*len(y_right))/len(y)\n",
    "        \n",
    "        # Compare the Weighted MSE with the best_MSE\n",
    "        if weighted_MSE<best_MSE:\n",
    "            best_MSE=weighted_MSE\n",
    "            best_split=X[i]\n",
    "    return (best_split,best_MSE)"
   ]
  },
  {
   "cell_type": "code",
   "execution_count": 12,
   "id": "291bc7ed",
   "metadata": {},
   "outputs": [
    {
     "name": "stdout",
     "output_type": "stream",
     "text": [
      "Best split at: [6.15205825], Minimum MSE: 192.22596553290165\n"
     ]
    }
   ],
   "source": [
    "# Find the best split\n",
    "split_point, min_mse = Best_Split(X, y)\n",
    "print(f\"Best split at: {split_point}, Minimum MSE: {min_mse}\")"
   ]
  },
  {
   "cell_type": "code",
   "execution_count": 13,
   "id": "cfb320e5",
   "metadata": {},
   "outputs": [
    {
     "name": "stdout",
     "output_type": "stream",
     "text": [
      "original MSE :  892.4376641494458\n",
      "Best split at: [6.15205825], Minimum MSE: 192.22596553290165\n"
     ]
    }
   ],
   "source": [
    "# Comparing the MSE we got with the original MSE before the split\n",
    "print(f'original MSE : ',MSE(y))\n",
    "print(f\"Best split at: {split_point}, Minimum MSE: {min_mse}\")"
   ]
  },
  {
   "cell_type": "markdown",
   "id": "43d9d4b7",
   "metadata": {},
   "source": [
    "Observation : The minimum MSE we got after finding the best split is much smaller than the Original MSE before the split."
   ]
  },
  {
   "cell_type": "markdown",
   "id": "69fbe0a4",
   "metadata": {},
   "source": [
    "# Build the Tree Recursively "
   ]
  },
  {
   "cell_type": "markdown",
   "id": "e57a8490",
   "metadata": {},
   "source": [
    "## Steps :\n",
    "- Check the stopping conditions so that we know when to stop splitting\n",
    "- Find the best split (we will call the Best_Split method above)\n",
    "- Split the data into left and right subtree \n",
    "- Recursively build the left and right nodes \n",
    "- Return a Tree Node (storing feature, threshold, and child nodes)"
   ]
  },
  {
   "cell_type": "markdown",
   "id": "614294d7",
   "metadata": {},
   "source": [
    "### What are the Stopping Conditions?\n",
    "- If the number of samples are smaller than the min_sample_split value we have specified\n",
    "- If MSE is very low meaning that the data is perfect and no split is required \n",
    "- If we have reached the max_depth of the tree "
   ]
  },
  {
   "cell_type": "code",
   "execution_count": 14,
   "id": "f8e494ce",
   "metadata": {},
   "outputs": [],
   "source": [
    "def Regression_Tree(X,y,depth=0,max_depth=5,min_sample_split=5):\n",
    "    # Check the Stopping Conditions\n",
    "    if len(y)<min_sample_split or MSE(y)<1e+6 or depth>=max_depth:\n",
    "        return np.mean(y) # Return the average of y as a leaf node value\n",
    "    \n",
    "    # Finding the best split\n",
    "    best_threshold,best_MSE=Best_Split(X,y)\n",
    "    \n",
    "    # Split the data into left<=threshold or right>threshold\n",
    "    left_mask=X.flatten()<=best_threshold  \n",
    "    right_mask=X.flatten()>best_threshold\n",
    "    # We used flatten() here because X is a 2D array so we converted it to 1D and threshold\n",
    "    # is a single/ scaler value.Numpy expects values of both X and threshold to be compatible else we will get a shape mismatch\n",
    "    # error.\n",
    "    X_left,y_left=X[left_mask],y[left_mask]\n",
    "    X_right,y_right=X[right_mask],y[right_mask]\n",
    "    \n",
    "    # If one side of the tree is empty then return mean value\n",
    "    if len(y_left) == 0 or len(y_right) == 0:\n",
    "        return np.mean(y)  \n",
    "    \n",
    "    # Recursively build the left and right nodes \n",
    "    left_subtree=Regression_Tree(X_left,y_left,depth+1,max_depth=5,min_sample_split=5)\n",
    "    right_subtree=Regression_Tree(X_right,y_right,depth+1,max_depth=5,min_sample_split=5)\n",
    "    \n",
    "    # Return a Tree Node \n",
    "    return {\"threshold\": best_threshold, \"left\": left_subtree, \"right\": right_subtree}\n",
    "    \n",
    "    "
   ]
  },
  {
   "cell_type": "code",
   "execution_count": 15,
   "id": "0aa9a817",
   "metadata": {},
   "outputs": [
    {
     "name": "stdout",
     "output_type": "stream",
     "text": [
      "36.005708560443\n"
     ]
    }
   ],
   "source": [
    "tree = Regression_Tree(X, y)\n",
    "print(tree)"
   ]
  },
  {
   "cell_type": "markdown",
   "id": "1cf1b768",
   "metadata": {},
   "source": [
    "## Issues Faced  in the Regression_Tree and how they were fixed\n",
    "Observation : The Regression_Tree function had returned a single value which means that the stopping condition was triggered immediately. This may have happened due to low MSE or the len(y)<min_sample_split. Since stopping condition was met the function had returned mean(y). "
   ]
  },
  {
   "cell_type": "markdown",
   "id": "eaa98bd3",
   "metadata": {},
   "source": [
    "How this issue was fixed:\n",
    "- increased the MSE(y) to 1 rather than 1e+6 because 1e+6 is a very small value and our dataset is already small so it might be having a small MSE\n",
    "- Reduced the min sample split. Instead of 5 I went for 2 so that more number of splits occur\n",
    "- Increased the max_depth so that the tree does not stop to early. \n",
    "    "
   ]
  },
  {
   "cell_type": "code",
   "execution_count": 16,
   "id": "90a6b9df",
   "metadata": {},
   "outputs": [],
   "source": [
    "def Regression_Tree(X,y,depth=0,max_depth=10,min_sample_split=2): # max_depth set to 10 and min_sample split set to 2\n",
    "    # Check the Stopping Conditions\n",
    "    if len(y)<min_sample_split or MSE(y)<1 or depth>=max_depth:  # MSE<1 fixed \n",
    "        return np.mean(y) # Return the average of y as a leaf node value\n",
    "    \n",
    "    # Finding the best split\n",
    "    best_threshold,best_MSE=Best_Split(X,y)\n",
    "    \n",
    "    # Split the data into left<=threshold or right>threshold\n",
    "    left_mask=X.flatten()<=best_threshold  \n",
    "    right_mask=X.flatten()>best_threshold\n",
    "    # We used flatten() here because X is a 2D array so we converted it to 1D and threshold\n",
    "    # is a single/ scaler value.Numpy expects values of both X and threshold to be compatible else we will get a shape mismatch\n",
    "    # error.\n",
    "    X_left,y_left=X[left_mask],y[left_mask]\n",
    "    X_right,y_right=X[right_mask],y[right_mask]\n",
    "    \n",
    "    # If one side of the tree is empty then return mean value\n",
    "    if len(y_left) == 0 or len(y_right) == 0:\n",
    "        return np.mean(y)  \n",
    "    \n",
    "    # Recursively build the left and right nodes \n",
    "    left_subtree=Regression_Tree(X_left,y_left,depth+1,max_depth=5,min_sample_split=5)\n",
    "    right_subtree=Regression_Tree(X_right,y_right,depth+1,max_depth=5,min_sample_split=5)\n",
    "    \n",
    "    # Return a Tree Node \n",
    "    return {\"threshold\": best_threshold, \"left\": left_subtree, \"right\": right_subtree}\n",
    "    "
   ]
  },
  {
   "cell_type": "code",
   "execution_count": 17,
   "id": "60ad4707",
   "metadata": {},
   "outputs": [
    {
     "name": "stdout",
     "output_type": "stream",
     "text": [
      "{'threshold': array([6.15205825]), 'left': {'threshold': array([4.20538035]), 'left': {'threshold': array([2.51835511]), 'left': {'threshold': array([1.28333902]), 'left': 3.1221755921687406, 'right': {'threshold': array([2.20404517]), 'left': 5.958269711994093, 'right': 8.444591399595048}}, 'right': {'threshold': array([3.5764317]), 'left': 12.684133107554738, 'right': 18.979299003022142}}, 'right': {'threshold': array([5.61203697]), 'left': {'threshold': array([5.08090163]), 'left': {'threshold': array([4.81681062]), 'left': 23.710343404534452, 'right': 27.071764684973367}, 'right': 29.64379294416385}, 'right': {'threshold': array([5.84289643]), 'left': 35.84671597298461, 'right': 40.877607751530164}}}, 'right': {'threshold': array([8.28540365]), 'left': {'threshold': array([7.3666623]), 'left': {'threshold': array([6.84828719]), 'left': {'threshold': array([6.57311303]), 'left': 44.16406184958733, 'right': 47.640242833492685}, 'right': 51.782547405912105}, 'right': {'threshold': array([8.03853568]), 'left': {'threshold': array([7.67992742]), 'left': 59.5153525448068, 'right': 64.20613262895267}, 'right': 69.12423635231342}}, 'right': {'threshold': array([9.11536997]), 'left': 78.87131028204307, 'right': {'threshold': array([9.82029109]), 'left': {'threshold': array([9.57832168]), 'left': 90.77218017719353, 'right': 98.98410490903576}, 'right': 100.36694890322866}}}}\n"
     ]
    }
   ],
   "source": [
    "tree = Regression_Tree(X, y)\n",
    "print(tree)"
   ]
  },
  {
   "cell_type": "markdown",
   "id": "566ceb92",
   "metadata": {},
   "source": [
    "Observation : Now we got the correct output. In the output I see that the root node splits at [6.15205825] and this is the same value we got in Best_split function."
   ]
  },
  {
   "cell_type": "markdown",
   "id": "2742410d",
   "metadata": {},
   "source": [
    "# Implementing Prediction logic to predict values for new data points "
   ]
  },
  {
   "cell_type": "markdown",
   "id": "ddff9cc4",
   "metadata": {},
   "source": [
    "## Defining a function by passing a single data point \n",
    "- We will be passing the tree which is a dictionary which holds three values {threshold,left,right} and we will pass a single data point x\n",
    "- We traverse the tree recursively to predict for one data point \n",
    "- If we reach a leaf node ie. when the tree has only one int/float value, we return it as the prediction \n",
    "- But to reach to that single prediction value we need to go left and right depending on whether the data point x is less that or greater than the threshold value of the tree. "
   ]
  },
  {
   "cell_type": "code",
   "execution_count": 18,
   "id": "699ad3ed",
   "metadata": {},
   "outputs": [],
   "source": [
    "def predict_single(tree,x): # Pass tree{threshold,left,right} and a single data point x\n",
    "    if isinstance(tree,(int,float)): # If the tree has only one value left of datatype int/float\n",
    "        return tree # Return that value as the leaf node / Prediction\n",
    "    \n",
    "    # Following the Left/Right Path to reach the Prediction\n",
    "    threshold=tree['threshold']\n",
    "    if x<=threshold:\n",
    "        return predict_single(tree['left'],x)\n",
    "    else : #if x>threshold:\n",
    "        return predict_single(tree['right'],x)\n",
    "    "
   ]
  },
  {
   "cell_type": "markdown",
   "id": "f3319898",
   "metadata": {},
   "source": [
    "## Predicting for multiple Points "
   ]
  },
  {
   "cell_type": "code",
   "execution_count": 30,
   "id": "94947011",
   "metadata": {},
   "outputs": [],
   "source": [
    "def predict(tree,X_test):\n",
    "        return np.array([predict_single(tree,x)for x in X_test])\n"
   ]
  },
  {
   "cell_type": "code",
   "execution_count": 31,
   "id": "9a206794",
   "metadata": {},
   "outputs": [
    {
     "name": "stdout",
     "output_type": "stream",
     "text": [
      "Predictions for X_test: [ 5.95826971 29.64379294 64.20613263 90.77218018  3.12217559 23.7103434 ]\n"
     ]
    }
   ],
   "source": [
    "# Test points \n",
    "X_test = np.array([2,5.5,7.8,9.3,1.22,4.37])\n",
    "\n",
    "# Predict values \n",
    "predictions = predict_multiple(tree, X_test)\n",
    "\n",
    "# Print predictions\n",
    "print(\"Predictions for X_test:\", predictions)"
   ]
  },
  {
   "cell_type": "markdown",
   "id": "952f0c65",
   "metadata": {},
   "source": [
    "# Visualization"
   ]
  },
  {
   "cell_type": "code",
   "execution_count": 32,
   "id": "d137e692",
   "metadata": {},
   "outputs": [
    {
     "data": {
      "image/png": "[encoded data removed]",
      "text/plain": [
       "<Figure size 640x480 with 1 Axes>"
      ]
     },
     "metadata": {},
     "output_type": "display_data"
    }
   ],
   "source": [
    "# Create 100 evenly spaces data points from 0 to 10\n",
    "X_test=np.linspace(0,10,100).reshape(-1,1)  # Reshaping 1D array generated from linspace into a 2D array\n",
    "# We had trained the data on a 2D array.If our test data is 1D,it could cause shape mismatch errors when passed into functions\n",
    "# expecting 2D input \n",
    "\n",
    "# Predict y values using predict_multiple function\n",
    "y_pred=predict_multiple(tree,X_test)\n",
    "\n",
    "\n",
    "# Plot Original data points \n",
    "plt.scatter(X, y, color=\"blue\", label=\"Original Data\",alpha=0.5) # alpha is to control the color transperency of the points \n",
    "# aplha=1 --> solid color , alpha=0.6 ---> semi transparent  , alpha=0 --> invisble\n",
    "\n",
    "# Plot regression tree predictions \n",
    "plt.plot(X_test, y_pred, color=\"red\", label=\"Regression Tree Prediction\",linewidth=2)\n",
    "\n",
    "plt.xlabel(\"Feature X\")\n",
    "plt.ylabel(\"Target y\")\n",
    "plt.title(\"Regression Tree Predictions\")\n",
    "plt.legend()\n",
    "plt.show()"
   ]
  },
  {
   "cell_type": "markdown",
   "id": "0422468d",
   "metadata": {},
   "source": [
    "Observation : Here the blue dots are the original data points (X,y) where as the Feature X grows, the target value y also gets bigger and bigger. The Red line is my Model Prediction line. The regression tree model is basically drawing a stair like structure. Each stair is covering a certain range of feature X values and is predicting one flat number (y) as the prediction value for that range. The model is climbing upward which means that it is following the correct pattern. But the red prediction line does not seem smooth like the polynomial regression line.To make it smooth we can tune is hyperparameters or increase its depth but avoid overfitting. "
   ]
  },
  {
   "cell_type": "markdown",
   "id": "5c9d5256",
   "metadata": {},
   "source": [
    "# Comparing Regression Tree with Linear Regression"
   ]
  },
  {
   "cell_type": "markdown",
   "id": "d8f51192",
   "metadata": {},
   "source": [
    "## Steps:\n",
    "- I will be training the Linear Regression model using sklearn on some dataset\n",
    "- Get predictions for that Linear Regression dataset \n",
    "- Plot both Linear Regression and Regression tree results and compare them"
   ]
  },
  {
   "cell_type": "code",
   "execution_count": 41,
   "id": "385fc436",
   "metadata": {},
   "outputs": [
    {
     "data": {
      "image/png": "[encoded data removed]",
      "text/plain": [
       "<Figure size 640x480 with 1 Axes>"
      ]
     },
     "metadata": {},
     "output_type": "display_data"
    }
   ],
   "source": [
    "from sklearn.linear_model import LinearRegression\n",
    "\n",
    "# Train the linear regression model\n",
    "linear=LinearRegression()\n",
    "linear.fit(X,y) # Fit model on the training data\n",
    "\n",
    "# y_pred_linear to predict Linear regression models data points in X\n",
    "y_pred_linear=linear.predict(X_test.reshape(-1,1)) # Ensuring X is 2D because in Regression tree we have X as 2D\n",
    "\n",
    "# y_pred_tree to predict Regression tree models data points\n",
    "y_pred_tree=predict(tree,X_test)\n",
    "\n",
    "# Plot both models\n",
    "plt.scatter(X, y, color=\"blue\", label=\"Original Data\", alpha=0.5)\n",
    "plt.plot(X_test, y_pred_tree, color=\"red\", label=\"Regression Tree\", linewidth=2)\n",
    "plt.plot(X_test, y_pred_lin, color=\"green\", label=\"Linear Regression\", linewidth=2)\n",
    "\n",
    "plt.xlabel(\"Feature X\")\n",
    "plt.ylabel(\"Target y\")\n",
    "plt.title(\"Regression Tree vs. Linear Regression\")\n",
    "plt.legend()\n",
    "plt.show()"
   ]
  },
  {
   "cell_type": "markdown",
   "id": "7c5d4907",
   "metadata": {},
   "source": [
    "Observation : It is clearly observed that the regression tree handles the data's curved shape much better, while the linear regression is oversimplifying with just one slope. "
   ]
  },
  {
   "cell_type": "code",
   "execution_count": null,
   "id": "a2b73d18",
   "metadata": {},
   "outputs": [],
   "source": []
  },
  {
   "cell_type": "code",
   "execution_count": null,
   "id": "97badec6",
   "metadata": {},
   "outputs": [],
   "source": []
  },
  {
   "cell_type": "code",
   "execution_count": null,
   "id": "34ed0a1f",
   "metadata": {},
   "outputs": [],
   "source": []
  },
  {
   "cell_type": "code",
   "execution_count": null,
   "id": "74ec6350",
   "metadata": {},
   "outputs": [],
   "source": []
  },
  {
   "cell_type": "code",
   "execution_count": null,
   "id": "1eb11df6",
   "metadata": {},
   "outputs": [],
   "source": []
  },
  {
   "cell_type": "code",
   "execution_count": null,
   "id": "63eb2c6a",
   "metadata": {},
   "outputs": [],
   "source": []
  },
  {
   "cell_type": "code",
   "execution_count": null,
   "id": "4ad4925d",
   "metadata": {},
   "outputs": [],
   "source": []
  },
  {
   "cell_type": "code",
   "execution_count": null,
   "id": "f03bab0e",
   "metadata": {},
   "outputs": [],
   "source": []
  },
  {
   "cell_type": "code",
   "execution_count": null,
   "id": "2e2ef8d6",
   "metadata": {},
   "outputs": [],
   "source": []
  },
  {
   "cell_type": "code",
   "execution_count": null,
   "id": "8df9daed",
   "metadata": {},
   "outputs": [],
   "source": []
  },
  {
   "cell_type": "code",
   "execution_count": null,
   "id": "15ea1665",
   "metadata": {},
   "outputs": [],
   "source": []
  },
  {
   "cell_type": "code",
   "execution_count": null,
   "id": "ed4e97d8",
   "metadata": {},
   "outputs": [],
   "source": []
  },
  {
   "cell_type": "code",
   "execution_count": null,
   "id": "76fed58c",
   "metadata": {},
   "outputs": [],
   "source": []
  }
 ],
 "metadata": {
  "kernelspec": {
   "display_name": "Python 3 (ipykernel)",
   "language": "python",
   "name": "python3"
  },
  "language_info": {
   "codemirror_mode": {
    "name": "ipython",
    "version": 3
   },
   "file_extension": ".py",
   "mimetype": "text/x-python",
   "name": "python",
   "nbconvert_exporter": "python",
   "pygments_lexer": "ipython3",
   "version": "3.9.13"
  }
 },
 "nbformat": 4,
 "nbformat_minor": 5
}
