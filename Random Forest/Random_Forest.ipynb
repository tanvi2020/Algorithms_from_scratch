{
 "cells": [
  {
   "cell_type": "markdown",
   "id": "355922fd",
   "metadata": {},
   "source": [
    "## In this mini project I am trying to built my own Random Forest from scratch and visualize how trees work together to improve accuracy and reduce overfitting."
   ]
  },
  {
   "cell_type": "markdown",
   "id": "76f2a0f9",
   "metadata": {},
   "source": [
    "# Step 1 : Creating a  dummy data and Implementing Bootstrap Sampling and Random Feature Selection Together "
   ]
  },
  {
   "cell_type": "markdown",
   "id": "fc86730d",
   "metadata": {},
   "source": [
    "- Why Boostrap Sampling ? "
   ]
  },
  {
   "cell_type": "markdown",
   "id": "f1a462d3",
   "metadata": {},
   "source": [
    "Because I want to give random data samples to each of my models so that each model will predict different patterns "
   ]
  },
  {
   "cell_type": "markdown",
   "id": "c2f106f0",
   "metadata": {},
   "source": [
    "- Why Random Feature Selection ?"
   ]
  },
  {
   "cell_type": "markdown",
   "id": "ee1527d2",
   "metadata": {},
   "source": [
    "I want each tree to pick some features randomly instead of picking all features. So if one tree misses to find a pattern the other tree might find it. "
   ]
  },
  {
   "cell_type": "code",
   "execution_count": 75,
   "id": "a69aa8ee",
   "metadata": {},
   "outputs": [],
   "source": [
    "\n",
    "import numpy as np\n",
    "import pandas as pd \n",
    "\n",
    "# Creating the data  \n",
    "\n",
    "np.random.seed(33)\n",
    "data=pd.DataFrame({'feature1':np.random.randint(0,10,10),'feature2':np.random.randint(0,10,10),'feature3':\n",
    "                  np.random.randint(0,10,10),'label':np.random.choice([0,1],10)})\n",
    "\n",
    "# np.random.randint(low,high,size) will create a 1D array starting from low upto high-1\n",
    "# np.random.choice generates a random sample from a given 1D array. Pick 10 random values from list [0,1]"
   ]
  },
  {
   "cell_type": "code",
   "execution_count": 76,
   "id": "31853228",
   "metadata": {},
   "outputs": [
    {
     "name": "stdout",
     "output_type": "stream",
     "text": [
      "   feature1  feature2  feature3  label\n",
      "0         4         3         8      0\n",
      "1         7         1         8      1\n",
      "2         8         7         3      0\n",
      "3         2         6         7      1\n",
      "4         2         0         9      1\n",
      "5         9         0         3      1\n",
      "6         9         6         3      0\n",
      "7         3         6         7      1\n",
      "8         6         0         3      0\n",
      "9         3         4         7      0\n"
     ]
    }
   ],
   "source": [
    "print(data)"
   ]
  },
  {
   "cell_type": "markdown",
   "id": "040fc2d5",
   "metadata": {},
   "source": [
    "### Writing a function which will perform Bootstrap sampling (With Replacement ---> Duplicates can exist)"
   ]
  },
  {
   "cell_type": "code",
   "execution_count": 77,
   "id": "b7fe1b9f",
   "metadata": {},
   "outputs": [],
   "source": [
    "def bootstrap_sampling(data):\n",
    "    # First I figure out how many rows the data has \n",
    "    number_of_rows=data.shape[0]  # df.shape[0/1] will return the number of rows(if 0) or the number of columns (if 1)\n",
    "    \n",
    "    # Then generating random row numbers (with repetition) of same size \n",
    "    indices=np.random.choice(number_of_rows,size=number_of_rows,replace=True) #Pick  numbers from 0 to n-1 , having number of \n",
    "    # rows n and replace=true will allow the same row to be picked more than once .\n",
    "    return data.iloc[indices].reset_index(drop=True)\n",
    "    # iloc will return me the row values based on the index positions from the indices list \n",
    "    # .reset_index(drop=True) so the result has clean 0-based indexing \n",
    "    "
   ]
  },
  {
   "cell_type": "markdown",
   "id": "1eceada3",
   "metadata": {},
   "source": [
    "### Writing a function which will perform Random Feature Selection"
   ]
  },
  {
   "cell_type": "code",
   "execution_count": 78,
   "id": "8649df5e",
   "metadata": {},
   "outputs": [],
   "source": [
    "def random_features(data,number_of_features):\n",
    "    features=data.columns[:-1] # Excluding label column\n",
    "    selected_features=np.random.choice(features,size=number_of_features,replace=False)\n",
    "    return list(selected_features)"
   ]
  },
  {
   "cell_type": "code",
   "execution_count": 79,
   "id": "57e57bd2",
   "metadata": {},
   "outputs": [
    {
     "name": "stdout",
     "output_type": "stream",
     "text": [
      "Bootstrap Sample:    feature1  feature2  feature3  label\n",
      "0         4         3         8      0\n",
      "1         2         0         9      1\n",
      "2         3         4         7      0\n",
      "3         8         7         3      0\n",
      "4         9         0         3      1\n",
      "5         3         6         7      1\n",
      "6         7         1         8      1\n",
      "7         7         1         8      1\n",
      "8         2         0         9      1\n",
      "9         7         1         8      1\n",
      "Selected Features: ['feature1', 'feature3']\n"
     ]
    }
   ],
   "source": [
    "sample = bootstrap_sampling(data)\n",
    "features = random_features(sample, 2)\n",
    "print(\"Bootstrap Sample:\", sample)\n",
    "print('Selected Features:', features)"
   ]
  },
  {
   "cell_type": "markdown",
   "id": "8dd1b5ba",
   "metadata": {},
   "source": [
    "# Step 2 : I will be building a custom random forest classifier using decision tree classifier from sklearn\n",
    "- Here I will be creating n number of decision trees\n",
    "- Then train each tree based on different samples and features \n"
   ]
  },
  {
   "cell_type": "code",
   "execution_count": 80,
   "id": "2d6f32bf",
   "metadata": {},
   "outputs": [],
   "source": [
    "from sklearn.tree import DecisionTreeClassifier\n",
    "import numpy as np\n",
    "import pandas as pd \n",
    "from collections import Counter # for counting which class has the majority votes"
   ]
  },
  {
   "cell_type": "code",
   "execution_count": 81,
   "id": "30e1db15",
   "metadata": {},
   "outputs": [],
   "source": [
    "class RandomForest:\n",
    "    def __init__(self,n_estimators=10,max_features=2): # 10 trees and max 2 random features to each\n",
    "        self.n_estimators=n_estimators \n",
    "        self.max_features=max_features\n",
    "        self.trees=[] # A list to store all decision trees \n",
    "        self.feature_indices=[] # A list which will store which features were used by each tree\n",
    "    # Defining a fot method that will create each tree one by one based on some random samples and features .     \n",
    "    def fit(self,data): \n",
    "        self.trees=[]\n",
    "        self.feature_indices=[]\n",
    "        for _ in range(self.n_estimators): # Creating each tree one by one\n",
    "            # Selecting random samples for the tree\n",
    "            samples=bootstrap_sampling(data) \n",
    "            #selecting Random Features for the tree\n",
    "            selected_features=random_features(samples,self.max_features)\n",
    "            self.feature_indices.append(selected_features) # Append the features the tree used in the Feature_indices list\n",
    "            \n",
    "            # Based on these Samples and Features prepare the training data\n",
    "            X_sample=samples[selected_features]\n",
    "            y_sample=samples['label']\n",
    "            \n",
    "            # Train the Tree \n",
    "            tree=DecisionTreeClassifier()\n",
    "            tree.fit(X_sample,y_sample)\n",
    "            \n",
    "            \n",
    "            self.trees.append(tree) # Store that tree in the forest\n",
    "      \n",
    "    # Defining the Predict method which will use majority voting to pick the final class\n",
    "    def Predict(self,X):\n",
    "        tree_predictions=[] # This list will store the predictions made by each tree \n",
    "        for tree,features in zip(self.trees,self.feature_indices):\n",
    "            preds=tree.predict(X[features])\n",
    "            tree_predictions.append(preds)\n",
    "        \n",
    "        # I will need to transpose the tree_predictions list  because I want sample wise predictions and not tree wise predictions\n",
    "        tree_predictions=np.array(tree_predictions).T\n",
    "        \n",
    "        # Do Majority Voting\n",
    "        # For each sample, count votes from all trees and pick the class with most votes\n",
    "        final_prediction=[Counter(row).most_common(1)[0][0] for row in tree_predictions] \n",
    "        # We have got a bunch of trees and each one gave a prediction for the same test sample. Counter(row) counts how many \n",
    "        # times each class appeared..most_common(1)gives you the most frequent element and how many times it appeared.\n",
    "        # [0][0] means we pick just the class value and not the count as our final predicted class \n",
    "        return final_prediction"
   ]
  },
  {
   "cell_type": "markdown",
   "id": "2c9cf2c0",
   "metadata": {},
   "source": [
    "# Test my Model on a real dataset (iris)"
   ]
  },
  {
   "cell_type": "code",
   "execution_count": 82,
   "id": "4d33a33a",
   "metadata": {},
   "outputs": [
    {
     "name": "stdout",
     "output_type": "stream",
     "text": [
      "Accuracy: 1.0\n"
     ]
    }
   ],
   "source": [
    "# Load data\n",
    "iris = load_iris()\n",
    "X = pd.DataFrame(iris.data, columns=iris.feature_names)\n",
    "y = pd.Series(iris.target)\n",
    "\n",
    "# Combine into one DataFrame\n",
    "data = X.copy()\n",
    "data['label'] = y\n",
    "\n",
    "# Split full data into train/test\n",
    "train_data, test_data = train_test_split(data, test_size=0.3)\n",
    "\n",
    "# Separate X_test and y_test\n",
    "X_test = test_data.drop('label', axis=1) # all columns except the label column \n",
    "y_test = test_data['label']\n",
    "\n",
    "# Create and train forest\n",
    "forest = RandomForest(n_estimators=10, max_features=2)\n",
    "forest.fit(train_data)\n",
    "\n",
    "# Make the Prediction\n",
    "y_pred = forest.Predict(X_test)\n",
    "\n",
    "# Accuracy\n",
    "forest_accuracy=accuracy_score(y_test, y_pred)\n",
    "print(\"Accuracy:\",forest_accuracy)\n"
   ]
  },
  {
   "cell_type": "markdown",
   "id": "68375107",
   "metadata": {},
   "source": [
    "# Now I will be Comparing my Random Forest to a Single Decision Tree \n"
   ]
  },
  {
   "cell_type": "code",
   "execution_count": 83,
   "id": "0d7bd085",
   "metadata": {},
   "outputs": [
    {
     "name": "stdout",
     "output_type": "stream",
     "text": [
      "Accuracy= 1.0\n"
     ]
    }
   ],
   "source": [
    "from sklearn.tree import DecisionTreeClassifier\n",
    "from sklearn.metrics import accuracy_score\n",
    "\n",
    "X_train=train_data.drop('label',axis=1)\n",
    "y_train=train_data['label']\n",
    "\n",
    "# Train the decision tree \n",
    "single_tree=DecisionTreeClassifier()\n",
    "single_tree.fit(X_train,y_train)\n",
    "\n",
    "single_pred=single_tree.predict(X_test)\n",
    "\n",
    "# Accuracy\n",
    "single_accuracy=accuracy_score(y_test, y_pred)\n",
    "print('Accuracy=',single_accuracy)"
   ]
  },
  {
   "cell_type": "markdown",
   "id": "3f9c80f9",
   "metadata": {},
   "source": [
    "Both the accuracies came out to be the same. This may be because the Iris dataset is already very well structured, small and linearly separable as well. But usually, a Random forest is better than a single decision tree in terms of pattern capturing , handling overfitting issues and achieve low bias low variance goal which cannot be achieved using any other algorithms I have studied until now. "
   ]
  },
  {
   "cell_type": "markdown",
   "id": "7b136adb",
   "metadata": {},
   "source": [
    "# Plotting the Accuracies of both the models (Single Decision Tree Classifier , Random Forest Classifoer)"
   ]
  },
  {
   "cell_type": "code",
   "execution_count": 84,
   "id": "874e951a",
   "metadata": {},
   "outputs": [
    {
     "data": {
      "image/png": "[encoded data removed]",
      "text/plain": [
       "<Figure size 640x480 with 1 Axes>"
      ]
     },
     "metadata": {},
     "output_type": "display_data"
    }
   ],
   "source": [
    "import matplotlib.pyplot as plt\n",
    "\n",
    "models = ['Single Tree', 'Random Forest']\n",
    "accuracies = [single_accuracy, forest_accuracy]\n",
    "\n",
    "plt.bar(models, accuracies)\n",
    "plt.ylabel('Accuracy')\n",
    "plt.title('Model Comparison')\n",
    "plt.show()"
   ]
  },
  {
   "cell_type": "markdown",
   "id": "e1cd9980",
   "metadata": {},
   "source": [
    "# Comparing my Forest with Sklearn's Forest "
   ]
  },
  {
   "cell_type": "code",
   "execution_count": 85,
   "id": "165e3c4a",
   "metadata": {},
   "outputs": [
    {
     "name": "stdout",
     "output_type": "stream",
     "text": [
      "Sklearn Random Forest Accuracy =  1.0\n"
     ]
    }
   ],
   "source": [
    "from sklearn.ensemble import RandomForestClassifier\n",
    "from sklearn.metrics import accuracy_score\n",
    "\n",
    "# Preparing the data\n",
    "X_train=train_data.drop('label',axis=1)\n",
    "y_train=train_data['label']\n",
    "\n",
    "# Training the Random Forest\n",
    "random_forest=RandomForestClassifier(n_estimators=10,max_features=2,random_state=22)\n",
    "random_forest.fit(X_train,y_train)\n",
    "\n",
    "# Make Predictions\n",
    "y_pred=random_forest.predict(X_test)\n",
    "\n",
    "# Calculate the Accuracy Score \n",
    "random_accuracy=accuracy_score(y_test,y_pred)\n",
    "print('Sklearn Random Forest Accuracy = ',random_accuracy)"
   ]
  },
  {
   "cell_type": "markdown",
   "id": "87b67b37",
   "metadata": {},
   "source": [
    "Accuracy of all three Models (My custom Random Forest, Sklearn Random Forest and Single Decision Tree Classifier) is the same."
   ]
  },
  {
   "cell_type": "markdown",
   "id": "2932b102",
   "metadata": {},
   "source": [
    "# Visualization"
   ]
  },
  {
   "cell_type": "code",
   "execution_count": 88,
   "id": "1fbab027",
   "metadata": {},
   "outputs": [
    {
     "data": {
      "image/png": "[encoded data removed]",
      "text/plain": [
       "<Figure size 640x480 with 1 Axes>"
      ]
     },
     "metadata": {},
     "output_type": "display_data"
    }
   ],
   "source": [
    "import matplotlib.pyplot as plt\n",
    "\n",
    "accuracies = [forest_accuracy,single_accuracy,random_accuracy]\n",
    "models = ['My Random Forest','single_tree','Sklearn Forest']\n",
    "plt.bar(models,accuracies)\n",
    "plt.xlabel('Models')\n",
    "plt.ylabel('Accuracies')\n",
    "plt.show()"
   ]
  },
  {
   "cell_type": "code",
   "execution_count": null,
   "id": "b8ca6259",
   "metadata": {},
   "outputs": [],
   "source": []
  }
 ],
 "metadata": {
  "kernelspec": {
   "display_name": "Python 3 (ipykernel)",
   "language": "python",
   "name": "python3"
  },
  "language_info": {
   "codemirror_mode": {
    "name": "ipython",
    "version": 3
   },
   "file_extension": ".py",
   "mimetype": "text/x-python",
   "name": "python",
   "nbconvert_exporter": "python",
   "pygments_lexer": "ipython3",
   "version": "3.9.13"
  }
 },
 "nbformat": 4,
 "nbformat_minor": 5
}
